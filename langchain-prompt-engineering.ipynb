{
 "cells": [
  {
   "cell_type": "markdown",
   "id": "6831d07c-f1c1-40c1-a2b3-37897e5e92c9",
   "metadata": {},
   "source": [
    "# Prompt engineering"
   ]
  },
  {
   "cell_type": "code",
   "execution_count": 1,
   "id": "4b170c78-39a6-4830-abf4-24481e3eb3b0",
   "metadata": {},
   "outputs": [
    {
     "data": {},
     "execution_count": 1,
     "metadata": {},
     "output_type": "execute_result"
    }
   ],
   "source": [
    "import { PromptTemplate } from \"npm:langchain/prompts\";\n",
    "import { ChatOllama } from \"npm:langchain/chat_models/ollama\";"
   ]
  },
  {
   "cell_type": "code",
   "execution_count": 1,
   "id": "dba5196f-282c-4c8d-8b8c-f75cdfbb1858",
   "metadata": {},
   "outputs": [
    {
     "ename": "ReferenceError",
     "evalue": "ChatOllama is not defined",
     "output_type": "error",
     "traceback": [
      "Stack trace:",
      "ReferenceError: ChatOllama is not defined",
      "    at <anonymous>:2:15"
     ]
    }
   ],
   "source": [
    "const model = new ChatOllama({});\n",
    "const promptTemplate = PromptTemplate.fromTemplate(\n",
    "  \"Tell me a joke about {topic}\"\n",
    ");\n",
    "\n",
    "const chain = promptTemplate.pipe(model);\n",
    "\n",
    "const result = await chain.invoke({ topic: \"beers\" });\n",
    "\n",
    "console.log(result);"
   ]
  },
  {
   "cell_type": "code",
   "execution_count": null,
   "id": "dc2a716f-c257-4c19-a902-c812da3ca543",
   "metadata": {},
   "outputs": [],
   "source": []
  }
 ],
 "metadata": {
  "kernelspec": {
   "display_name": "Deno",
   "language": "typescript",
   "name": "deno"
  },
  "language_info": {
   "file_extension": ".ts",
   "mimetype": "text/x.typescript",
   "name": "typescript",
   "nb_converter": "script",
   "pygments_lexer": "typescript",
   "version": "5.2.2"
  }
 },
 "nbformat": 4,
 "nbformat_minor": 5
}
