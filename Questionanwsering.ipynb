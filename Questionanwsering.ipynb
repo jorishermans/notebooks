{
 "cells": [
  {
   "cell_type": "markdown",
   "id": "07cbebc7-aa24-49ae-9cb9-5b95be760865",
   "metadata": {},
   "source": [
    "### Question and answering\n",
    "\n",
    "A guide how to use documents that you can search through with knowledge when using a question and answering technique in langchain."
   ]
  },
  {
   "cell_type": "code",
   "execution_count": 2,
   "id": "76b8533c-9136-4118-945e-3383f7ca4c8a",
   "metadata": {},
   "outputs": [],
   "source": [
    "import { Ollama } from \"npm:@langchain/community/llms/ollama\";\n",
    "import { loadQAChain } from \"npm:langchain/chains\";\n",
    "import { Document } from \"npm:langchain/document\";"
   ]
  },
  {
   "cell_type": "code",
   "execution_count": 3,
   "id": "6dce2e53-eaf5-4356-a7c6-03679d8f7fd5",
   "metadata": {},
   "outputs": [],
   "source": [
    "const model = new Ollama({ model: \"llama3\" });"
   ]
  },
  {
   "cell_type": "code",
   "execution_count": 4,
   "id": "f5e51c24-7de2-4830-a96c-da6f347072be",
   "metadata": {},
   "outputs": [],
   "source": [
    "// question and answer chain\n",
    "const chain = loadQAChain(model);\n",
    "// your docs\n",
    "const docs = [\n",
    "    new Document({ pageContent: \"Rachel went to Harvard and is 42 years old\" }),\n",
    "    new Document({ pageContent: \"Tom went to Stanford and is 31 years old\" }),\n",
    "    new Document({ pageContent: \"Jenifer went to Stanford and is 36 years old\" }),\n",
    "    new Document({ pageContent: \"Jim went to MIT and is 45 years old\" }),\n",
    "    new Document({ pageContent: \"Luca went to MIT and is 31 years old\" })\n",
    "  ];"
   ]
  },
  {
   "cell_type": "code",
   "execution_count": 5,
   "id": "ba2e2c93-954d-4121-bfa6-44497fdbf49a",
   "metadata": {},
   "outputs": [
    {
     "name": "stdout",
     "output_type": "stream",
     "text": [
      "docs [\n",
      "  Document {\n",
      "    pageContent: \u001b[32m\"Rachel went to Harvard and is 42 years old\"\u001b[39m,\n",
      "    metadata: {}\n",
      "  },\n",
      "  Document {\n",
      "    pageContent: \u001b[32m\"Tom went to Stanford and is 31 years old\"\u001b[39m,\n",
      "    metadata: {}\n",
      "  },\n",
      "  Document {\n",
      "    pageContent: \u001b[32m\"Jenifer went to Stanford and is 36 years old\"\u001b[39m,\n",
      "    metadata: {}\n",
      "  },\n",
      "  Document {\n",
      "    pageContent: \u001b[32m\"Jim went to MIT and is 45 years old\"\u001b[39m,\n",
      "    metadata: {}\n",
      "  },\n",
      "  Document {\n",
      "    pageContent: \u001b[32m\"Luca went to MIT and is 31 years old\"\u001b[39m,\n",
      "    metadata: {}\n",
      "  }\n",
      "]\n"
     ]
    }
   ],
   "source": [
    "console.log(\"docs\", docs);"
   ]
  },
  {
   "cell_type": "code",
   "execution_count": 6,
   "id": "8e6f1eb1-5e03-41e5-8235-10085a5ba9a7",
   "metadata": {},
   "outputs": [],
   "source": [
    "const res = await chain.call({\n",
    "    input_documents: docs,\n",
    "    question: \"Where did rachel go to college\",\n",
    "  });"
   ]
  },
  {
   "cell_type": "code",
   "execution_count": 7,
   "id": "d0c1a50c-8036-42d9-a10b-aa51fa785d79",
   "metadata": {},
   "outputs": [
    {
     "name": "stdout",
     "output_type": "stream",
     "text": [
      "{ res: { text: \u001b[32m\"According to the context, Rachel went to Harvard.\"\u001b[39m } }\n"
     ]
    }
   ],
   "source": [
    "console.log({ res });"
   ]
  },
  {
   "cell_type": "code",
   "execution_count": 8,
   "id": "0d2efeb2-efec-42a7-bfcf-f9c74b98377e",
   "metadata": {},
   "outputs": [],
   "source": [
    "const res2 = await chain.call({\n",
    "    input_documents: docs,\n",
    "    question: \"Who went to MIT\",\n",
    "  });"
   ]
  },
  {
   "cell_type": "code",
   "execution_count": 9,
   "id": "65982f6c-0303-4fd2-b8f4-8df27fd09976",
   "metadata": {},
   "outputs": [
    {
     "name": "stdout",
     "output_type": "stream",
     "text": [
      "Jim and Luca both went to MIT.\n"
     ]
    }
   ],
   "source": [
    "console.log(res2.text)"
   ]
  },
  {
   "cell_type": "code",
   "execution_count": 10,
   "id": "9cdeba8c-4234-4fe2-b2d2-087a588bf19e",
   "metadata": {},
   "outputs": [],
   "source": [
    "const res2 = await chain.call({\n",
    "    input_documents: docs,\n",
    "    question: \"Who is the oldest\",\n",
    "  });"
   ]
  },
  {
   "cell_type": "code",
   "execution_count": 11,
   "id": "1ef8656f-89b6-4cd2-8e07-3a8ed12833fc",
   "metadata": {},
   "outputs": [
    {
     "name": "stdout",
     "output_type": "stream",
     "text": [
      "Based on the given context, I can determine that:\n",
      "\n",
      "* Rachel is 42 years old.\n",
      "* Jim is 45 years old.\n",
      "\n",
      "Since Jim's age (45) is greater than Rachel's age (42), I can conclude that Jim is the oldest.\n"
     ]
    }
   ],
   "source": [
    "console.log(res2.text)"
   ]
  },
  {
   "cell_type": "code",
   "execution_count": 12,
   "id": "180b561b-f8c3-4cdf-88c7-1fd8425d4ea8",
   "metadata": {},
   "outputs": [],
   "source": [
    "const res2 = await chain.call({\n",
    "    input_documents: docs,\n",
    "    question: \"Who is the youngest\",\n",
    "  });"
   ]
  },
  {
   "cell_type": "code",
   "execution_count": 13,
   "id": "e94d9507-3005-4453-9fa0-d0a92d588db7",
   "metadata": {},
   "outputs": [
    {
     "name": "stdout",
     "output_type": "stream",
     "text": [
      "Based on the context, Tom is the youngest. He is 31 years old.\n"
     ]
    }
   ],
   "source": [
    "console.log(res2.text)"
   ]
  },
  {
   "cell_type": "code",
   "execution_count": 14,
   "id": "36c0859f-13af-44e4-bfce-b73d6ead9d58",
   "metadata": {},
   "outputs": [],
   "source": [
    "const res2 = await chain.call({\n",
    "    input_documents: docs,\n",
    "    question: \"Who is the youngest? I need the response in json format.\",\n",
    "  });"
   ]
  },
  {
   "cell_type": "code",
   "execution_count": 15,
   "id": "386a39e4-b5ac-466a-817b-0d1c2cde2d7f",
   "metadata": {},
   "outputs": [
    {
     "name": "stdout",
     "output_type": "stream",
     "text": [
      "Here's the answer:\n",
      "\n",
      "{\"youngest\": \"Tom\"}\n",
      "\n",
      "\n",
      "Let me know if you have any further questions!\n"
     ]
    }
   ],
   "source": [
    "console.log(res2.text)"
   ]
  },
  {
   "cell_type": "code",
   "execution_count": null,
   "id": "bca03a0f-5490-4429-bf29-e81490d38225",
   "metadata": {},
   "outputs": [],
   "source": []
  }
 ],
 "metadata": {
  "kernelspec": {
   "display_name": "Deno",
   "language": "typescript",
   "name": "deno"
  },
  "language_info": {
   "file_extension": ".ts",
   "mimetype": "text/x.typescript",
   "name": "typescript",
   "nb_converter": "script",
   "pygments_lexer": "typescript",
   "version": "5.3.3"
  }
 },
 "nbformat": 4,
 "nbformat_minor": 5
}
