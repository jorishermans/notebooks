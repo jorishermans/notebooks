{
 "cells": [
  {
   "cell_type": "code",
   "execution_count": 1,
   "id": "65552fe1-9c52-4f4e-94c3-912c6e43e72f",
   "metadata": {},
   "outputs": [
    {
     "data": {
      "text/plain": [
       "[Module: null prototype] {\n",
       "  autoType: \u001b[36m[Function: autoType]\u001b[39m,\n",
       "  csvFormat: \u001b[36m[Function: format]\u001b[39m,\n",
       "  csvFormatBody: \u001b[36m[Function: formatBody]\u001b[39m,\n",
       "  csvFormatRow: \u001b[36m[Function: formatRow]\u001b[39m,\n",
       "  csvFormatRows: \u001b[36m[Function: formatRows]\u001b[39m,\n",
       "  csvFormatValue: \u001b[36m[Function: formatValue]\u001b[39m,\n",
       "  csvParse: \u001b[36m[Function: parse]\u001b[39m,\n",
       "  csvParseRows: \u001b[36m[Function: parseRows]\u001b[39m,\n",
       "  dsvFormat: \u001b[36m[Function: default]\u001b[39m,\n",
       "  tsvFormat: \u001b[36m[Function: format]\u001b[39m,\n",
       "  tsvFormatBody: \u001b[36m[Function: formatBody]\u001b[39m,\n",
       "  tsvFormatRow: \u001b[36m[Function: formatRow]\u001b[39m,\n",
       "  tsvFormatRows: \u001b[36m[Function: formatRows]\u001b[39m,\n",
       "  tsvFormatValue: \u001b[36m[Function: formatValue]\u001b[39m,\n",
       "  tsvParse: \u001b[36m[Function: parse]\u001b[39m,\n",
       "  tsvParseRows: \u001b[36m[Function: parseRows]\u001b[39m\n",
       "}"
      ]
     },
     "execution_count": 1,
     "metadata": {},
     "output_type": "execute_result"
    }
   ],
   "source": [
    "import { Ollama } from \"npm:langchain/llms/ollama\";\n",
    "import { AgentType } from \"npm:langchain/agents\";\n",
    "import { RetrievalQAChain } from \"npm:langchain/chains\";\n",
    "import { MemoryVectorStore } from \"npm:langchain/vectorstores/memory\";\n",
    "import { OllamaEmbeddings } from \"npm:langchain/embeddings/ollama\";\n",
    "import { RecursiveCharacterTextSplitter } from \"npm:langchain/text_splitter\";\n",
    "import \"npm:d3-dsv\";"
   ]
  },
  {
   "cell_type": "code",
   "execution_count": 2,
   "id": "6c8f62ab-14f1-4d44-95a4-a617cf2e2bd5",
   "metadata": {},
   "outputs": [
    {
     "data": {},
     "execution_count": 2,
     "metadata": {},
     "output_type": "execute_result"
    }
   ],
   "source": [
    "// loaders\n",
    "import { DirectoryLoader } from \"npm:langchain/document_loaders/fs/directory\"\n",
    "import { JSONLoader } from \"npm:langchain/document_loaders/fs/json\"\n",
    "import { TextLoader } from \"npm:langchain/document_loaders/fs/text\"\n",
    "import { CSVLoader } from \"npm:langchain/document_loaders/fs/csv\"\n",
    "import { PDFLoader } from \"npm:langchain/document_loaders/fs/pdf\"\n",
    "import { Document } from \"npm:langchain/document\""
   ]
  },
  {
   "cell_type": "code",
   "execution_count": 3,
   "id": "9c812a84-6721-4486-871f-a3c693c58e7b",
   "metadata": {
    "scrolled": true
   },
   "outputs": [
    {
     "data": {},
     "execution_count": 3,
     "metadata": {},
     "output_type": "execute_result"
    }
   ],
   "source": [
    "const loader = new DirectoryLoader(\"./docs\", {\n",
    "    \".json\": (path) => new JSONLoader(path),\n",
    "    \".txt\": (path) => new TextLoader(path),\n",
    "    \".csv\": (path) => new CSVLoader(path, { separator: \",\"}),\n",
    "    \".pdf\": (path) => new PDFLoader(path),\n",
    "});"
   ]
  },
  {
   "cell_type": "code",
   "execution_count": 4,
   "id": "662e5637-9698-421b-b4d5-6c8a97b13843",
   "metadata": {
    "scrolled": true
   },
   "outputs": [
    {
     "data": {},
     "execution_count": 4,
     "metadata": {},
     "output_type": "execute_result"
    },
    {
     "name": "stdout",
     "output_type": "stream",
     "text": [
      "[\n",
      "  Document {\n",
      "    pageContent: \u001b[32m\"id: 1\\n\"\u001b[39m +\n",
      "      \u001b[32m\"first_name: Oli\\n\"\u001b[39m +\n",
      "      \u001b[32m\"last_name: Mound\\n\"\u001b[39m +\n",
      "      \u001b[32m\"email: omound@test.com\\n\"\u001b[39m +\n",
      "      \u001b[32m\"gender: Female\\n\"\u001b[39m +\n",
      "      \u001b[32m\"review: 3\"\u001b[39m,\n",
      "    metadata: { source: \u001b[32m\"/Users/jorishermans/docs/MOCK_DATA.csv\"\u001b[39m, line: \u001b[33m1\u001b[39m }\n",
      "  },\n",
      "  Document {\n",
      "    pageContent: \u001b[32m\"id: 2\\n\"\u001b[39m +\n",
      "      \u001b[32m\"first_name: Prince\\n\"\u001b[39m +\n",
      "      \u001b[32m\"last_name: Y\\n\"\u001b[39m +\n",
      "      \u001b[32m\"email: prince.y@abc.net.au\\n\"\u001b[39m +\n",
      "      \u001b[32m\"gender: Male\\n\"\u001b[39m +\n",
      "      \u001b[32m\"review: 8\"\u001b[39m,\n",
      "    metadata: { source: \u001b[32m\"/Users/jorishermans/docs/MOCK_DATA.csv\"\u001b[39m, line: \u001b[33m2\u001b[39m }\n",
      "  },\n",
      "  Document {\n",
      "    pageContent: \u001b[32m\"id: 3\\n\"\u001b[39m +\n",
      "      \u001b[32m\"first_name: Ricky\\n\"\u001b[39m +\n",
      "      \u001b[32m\"last_name: Martin\\n\"\u001b[39m +\n",
      "      \u001b[32m\"email: ricky.martin@glu.com\\n\"\u001b[39m +\n",
      "      \u001b[32m\"gender: Male\\n\"\u001b[39m +\n",
      "      \u001b[32m\"review: 3\"\u001b[39m,\n",
      "    metadata: { source: \u001b[32m\"/Users/jorishermans/docs/MOCK_DATA.csv\"\u001b[39m, line: \u001b[33m3\u001b[39m }\n",
      "  },\n",
      "  Document {\n",
      "    pageContent: \u001b[32m\"id: 4\\n\"\u001b[39m +\n",
      "      \u001b[32m\"first_name: Melanie\\n\"\u001b[39m +\n",
      "      \u001b[32m\"last_name: Pidgeon\\n\"\u001b[39m +\n",
      "      \u001b[32m\"email: mpidgeon3@test.com\\n\"\u001b[39m +\n",
      "      \u001b[32m\"gender: Female\\n\"\u001b[39m +\n",
      "      \u001b[32m\"review: 1\"\u001b[39m,\n",
      "    metadata: { source: \u001b[32m\"/Users/jorishermans/docs/MOCK_DATA.csv\"\u001b[39m, line: \u001b[33m4\u001b[39m }\n",
      "  },\n",
      "  Document {\n",
      "    pageContent: \u001b[32m\"id: 5\\n\"\u001b[39m +\n",
      "      \u001b[32m\"first_name: Matthew\\n\"\u001b[39m +\n",
      "      \u001b[32m\"last_name: McWire\\n\"\u001b[39m +\n",
      "      \u001b[32m\"email: mmcwire@d.org\\n\"\u001b[39m +\n",
      "      \u001b[32m\"gender: Male\\n\"\u001b[39m +\n",
      "      \u001b[32m\"review: 1\"\u001b[39m,\n",
      "    metadata: { source: \u001b[32m\"/Users/jorishermans/docs/MOCK_DATA.csv\"\u001b[39m, line: \u001b[33m5\u001b[39m }\n",
      "  },\n",
      "  Document {\n",
      "    pageContent: \u001b[32m\"id: 6\\n\"\u001b[39m +\n",
      "      \u001b[32m\"first_name: Christine\\n\"\u001b[39m +\n",
      "      \u001b[32m\"last_name: Tyer\\n\"\u001b[39m +\n",
      "      \u001b[32m\"email: ctyer5@diigo.com\\n\"\u001b[39m +\n",
      "      \u001b[32m\"gender: Non-binary\\n\"\u001b[39m +\n",
      "      \u001b[32m\"review: 2\"\u001b[39m,\n",
      "    metadata: { source: \u001b[32m\"/Users/jorishermans/docs/MOCK_DATA.csv\"\u001b[39m, line: \u001b[33m6\u001b[39m }\n",
      "  },\n",
      "  Document {\n",
      "    pageContent: \u001b[32m\"id: 7\\n\"\u001b[39m +\n",
      "      \u001b[32m\"first_name: Adriaens\\n\"\u001b[39m +\n",
      "      \u001b[32m\"last_name: Anna\\n\"\u001b[39m +\n",
      "      \u001b[32m\"email: aa@virginia.edu\\n\"\u001b[39m +\n",
      "      \u001b[32m\"gender: Female\\n\"\u001b[39m +\n",
      "      \u001b[32m\"review: 2\"\u001b[39m,\n",
      "    metadata: { source: \u001b[32m\"/Users/jorishermans/docs/MOCK_DATA.csv\"\u001b[39m, line: \u001b[33m7\u001b[39m }\n",
      "  },\n",
      "  Document {\n",
      "    pageContent: \u001b[32m\"id: 8\\n\"\u001b[39m +\n",
      "      \u001b[32m\"first_name: Albert\\n\"\u001b[39m +\n",
      "      \u001b[32m\"last_name: Alberts\\n\"\u001b[39m +\n",
      "      \u001b[32m\"email: tri_alberts@test.org\\n\"\u001b[39m +\n",
      "      \u001b[32m\"gender: Male\\n\"\u001b[39m +\n",
      "      \u001b[32m\"review: 5\"\u001b[39m,\n",
      "    metadata: { source: \u001b[32m\"/Users/jorishermans/docs/MOCK_DATA.csv\"\u001b[39m, line: \u001b[33m8\u001b[39m }\n",
      "  },\n",
      "  Document {\n",
      "    pageContent: \u001b[32m\"id: 9\\n\"\u001b[39m +\n",
      "      \u001b[32m\"first_name: Parsifal\\n\"\u001b[39m +\n",
      "      \u001b[32m\"last_name: Bazley\\n\"\u001b[39m +\n",
      "      \u001b[32m\"email: pbazley8@addthis.com\\n\"\u001b[39m +\n",
      "      \u001b[32m\"gender: Male\\n\"\u001b[39m +\n",
      "      \u001b[32m\"review: 3\"\u001b[39m,\n",
      "    metadata: { source: \u001b[32m\"/Users/jorishermans/docs/MOCK_DATA.csv\"\u001b[39m, line: \u001b[33m9\u001b[39m }\n",
      "  },\n",
      "  Document {\n",
      "    pageContent: \u001b[32m\"id: 10\\n\"\u001b[39m +\n",
      "      \u001b[32m\"first_name: Elihu\\n\"\u001b[39m +\n",
      "      \u001b[32m\"last_name: B\\n\"\u001b[39m +\n",
      "      \u001b[32m\"email: eb9@digg.com\\n\"\u001b[39m +\n",
      "      \u001b[32m\"gender: Non-binary\\n\"\u001b[39m +\n",
      "      \u001b[32m\"review: 7\"\u001b[39m,\n",
      "    metadata: { source: \u001b[32m\"/Users/jorishermans/docs/MOCK_DATA.csv\"\u001b[39m, line: \u001b[33m10\u001b[39m }\n",
      "  }\n",
      "]\n"
     ]
    }
   ],
   "source": [
    "const docs = await loader.load();\n",
    "console.log(docs)"
   ]
  },
  {
   "cell_type": "code",
   "execution_count": 5,
   "id": "782d3706-e274-4b90-9491-6531b50aa264",
   "metadata": {
    "scrolled": true
   },
   "outputs": [
    {
     "data": {},
     "execution_count": 5,
     "metadata": {},
     "output_type": "execute_result"
    },
    {
     "name": "stdout",
     "output_type": "stream",
     "text": [
      "[\n",
      "  \u001b[32m\"id: 1\\n\"\u001b[39m +\n",
      "    \u001b[32m\"first_name: Oli\\n\"\u001b[39m +\n",
      "    \u001b[32m\"last_name: Mound\\n\"\u001b[39m +\n",
      "    \u001b[32m\"email: omound@test.com\\n\"\u001b[39m +\n",
      "    \u001b[32m\"gender: Female\\n\"\u001b[39m +\n",
      "    \u001b[32m\"review: 3\"\u001b[39m,\n",
      "  \u001b[32m\"id: 2\\n\"\u001b[39m +\n",
      "    \u001b[32m\"first_name: Prince\\n\"\u001b[39m +\n",
      "    \u001b[32m\"last_name: Y\\n\"\u001b[39m +\n",
      "    \u001b[32m\"email: prince.y@abc.net.au\\n\"\u001b[39m +\n",
      "    \u001b[32m\"gender: Male\\n\"\u001b[39m +\n",
      "    \u001b[32m\"review: 8\"\u001b[39m,\n",
      "  \u001b[32m\"id: 3\\n\"\u001b[39m +\n",
      "    \u001b[32m\"first_name: Ricky\\n\"\u001b[39m +\n",
      "    \u001b[32m\"last_name: Martin\\n\"\u001b[39m +\n",
      "    \u001b[32m\"email: ricky.martin@glu.com\\n\"\u001b[39m +\n",
      "    \u001b[32m\"gender: Male\\n\"\u001b[39m +\n",
      "    \u001b[32m\"review: 3\"\u001b[39m,\n",
      "  \u001b[32m\"id: 4\\n\"\u001b[39m +\n",
      "    \u001b[32m\"first_name: Melanie\\n\"\u001b[39m +\n",
      "    \u001b[32m\"last_name: Pidgeon\\n\"\u001b[39m +\n",
      "    \u001b[32m\"email: mpidgeon3@test.com\\n\"\u001b[39m +\n",
      "    \u001b[32m\"gender: Female\\n\"\u001b[39m +\n",
      "    \u001b[32m\"review: 1\"\u001b[39m,\n",
      "  \u001b[32m\"id: 5\\n\"\u001b[39m +\n",
      "    \u001b[32m\"first_name: Matthew\\n\"\u001b[39m +\n",
      "    \u001b[32m\"last_name: McWire\\n\"\u001b[39m +\n",
      "    \u001b[32m\"email: mmcwire@d.org\\n\"\u001b[39m +\n",
      "    \u001b[32m\"gender: Male\\n\"\u001b[39m +\n",
      "    \u001b[32m\"review: 1\"\u001b[39m,\n",
      "  \u001b[32m\"id: 6\\n\"\u001b[39m +\n",
      "    \u001b[32m\"first_name: Christine\\n\"\u001b[39m +\n",
      "    \u001b[32m\"last_name: Tyer\\n\"\u001b[39m +\n",
      "    \u001b[32m\"email: ctyer5@diigo.com\\n\"\u001b[39m +\n",
      "    \u001b[32m\"gender: Non-binary\\n\"\u001b[39m +\n",
      "    \u001b[32m\"review: 2\"\u001b[39m,\n",
      "  \u001b[32m\"id: 7\\n\"\u001b[39m +\n",
      "    \u001b[32m\"first_name: Adriaens\\n\"\u001b[39m +\n",
      "    \u001b[32m\"last_name: Anna\\n\"\u001b[39m +\n",
      "    \u001b[32m\"email: aa@virginia.edu\\n\"\u001b[39m +\n",
      "    \u001b[32m\"gender: Female\\n\"\u001b[39m +\n",
      "    \u001b[32m\"review: 2\"\u001b[39m,\n",
      "  \u001b[32m\"id: 8\\n\"\u001b[39m +\n",
      "    \u001b[32m\"first_name: Albert\\n\"\u001b[39m +\n",
      "    \u001b[32m\"last_name: Alberts\\n\"\u001b[39m +\n",
      "    \u001b[32m\"email: tri_alberts@test.org\\n\"\u001b[39m +\n",
      "    \u001b[32m\"gender: Male\\n\"\u001b[39m +\n",
      "    \u001b[32m\"review: 5\"\u001b[39m,\n",
      "  \u001b[32m\"id: 9\\n\"\u001b[39m +\n",
      "    \u001b[32m\"first_name: Parsifal\\n\"\u001b[39m +\n",
      "    \u001b[32m\"last_name: Bazley\\n\"\u001b[39m +\n",
      "    \u001b[32m\"email: pbazley8@addthis.com\\n\"\u001b[39m +\n",
      "    \u001b[32m\"gender: Male\\n\"\u001b[39m +\n",
      "    \u001b[32m\"review: 3\"\u001b[39m,\n",
      "  \u001b[32m\"id: 10\\n\"\u001b[39m +\n",
      "    \u001b[32m\"first_name: Elihu\\n\"\u001b[39m +\n",
      "    \u001b[32m\"last_name: B\\n\"\u001b[39m +\n",
      "    \u001b[32m\"email: eb9@digg.com\\n\"\u001b[39m +\n",
      "    \u001b[32m\"gender: Non-binary\\n\"\u001b[39m +\n",
      "    \u001b[32m\"review: 7\"\u001b[39m\n",
      "]\n"
     ]
    }
   ],
   "source": [
    "const csvContent = docs.map((doc: Document) => doc.pageContent);\n",
    "console.log(csvContent);"
   ]
  },
  {
   "cell_type": "code",
   "execution_count": 6,
   "id": "f422fbc0-6979-4378-a21d-6d65ea101d9d",
   "metadata": {},
   "outputs": [
    {
     "data": {},
     "execution_count": 6,
     "metadata": {},
     "output_type": "execute_result"
    }
   ],
   "source": [
    "const askModel = async (question: string) => {\n",
    "    const model = new Ollama({ model: \"mixtral\" });\n",
    "    let vectorstore;\n",
    "\n",
    "    const textSplitter = new RecursiveCharacterTextSplitter({\n",
    "      chunkSize: 500,\n",
    "      chunkOverlap: 450\n",
    "    });\n",
    "\n",
    "    console.log(\"Text Splitting......\");\n",
    "\tconsole.log(`Chunk size  ----> ${textSplitter.chunkSize}`);\n",
    "\tconsole.log(`Chunk Overlap  ----> ${textSplitter.chunkOverlap}`);\n",
    "\n",
    "\tconst splitDocs = await textSplitter.createDocuments(csvContent);\n",
    "    console.log(splitDocs)\n",
    "\n",
    "\tconst vectorStore = await MemoryVectorStore.fromDocuments(\n",
    "\t\tsplitDocs,\n",
    "\t\tnew OllamaEmbeddings({ model: \"mixtral\" })\n",
    "\t);\n",
    "\n",
    "    // RetrievalQAChain\n",
    "\tconst chain = RetrievalQAChain.fromLLM(model, vectorStore.asRetriever());\n",
    "\tconsole.log(\"Querying...\");\n",
    "\tconst res = await chain.call({ query: question });\n",
    "\tconsole.log(res);\n",
    "    return res;\n",
    "}"
   ]
  },
  {
   "cell_type": "code",
   "execution_count": null,
   "id": "a3094dfc-2dbb-494b-9259-685b16cadd75",
   "metadata": {},
   "outputs": [
    {
     "name": "stdout",
     "output_type": "stream",
     "text": [
      "Text Splitting......\n",
      "Chunk size  ----> 500\n",
      "Chunk Overlap  ----> 450\n",
      "[\n",
      "  Document {\n",
      "    pageContent: \u001b[32m\"id: 1\\n\"\u001b[39m +\n",
      "      \u001b[32m\"first_name: Oli\\n\"\u001b[39m +\n",
      "      \u001b[32m\"last_name: Mound\\n\"\u001b[39m +\n",
      "      \u001b[32m\"email: omound@test.com\\n\"\u001b[39m +\n",
      "      \u001b[32m\"gender: Female\\n\"\u001b[39m +\n",
      "      \u001b[32m\"review: 3\"\u001b[39m,\n",
      "    metadata: { loc: { lines: { from: \u001b[33m1\u001b[39m, to: \u001b[33m6\u001b[39m } } }\n",
      "  },\n",
      "  Document {\n",
      "    pageContent: \u001b[32m\"id: 2\\n\"\u001b[39m +\n",
      "      \u001b[32m\"first_name: Prince\\n\"\u001b[39m +\n",
      "      \u001b[32m\"last_name: Y\\n\"\u001b[39m +\n",
      "      \u001b[32m\"email: prince.y@abc.net.au\\n\"\u001b[39m +\n",
      "      \u001b[32m\"gender: Male\\n\"\u001b[39m +\n",
      "      \u001b[32m\"review: 8\"\u001b[39m,\n",
      "    metadata: { loc: { lines: { from: \u001b[33m1\u001b[39m, to: \u001b[33m6\u001b[39m } } }\n",
      "  },\n",
      "  Document {\n",
      "    pageContent: \u001b[32m\"id: 3\\n\"\u001b[39m +\n",
      "      \u001b[32m\"first_name: Ricky\\n\"\u001b[39m +\n",
      "      \u001b[32m\"last_name: Martin\\n\"\u001b[39m +\n",
      "      \u001b[32m\"email: ricky.martin@glu.com\\n\"\u001b[39m +\n",
      "      \u001b[32m\"gender: Male\\n\"\u001b[39m +\n",
      "      \u001b[32m\"review: 3\"\u001b[39m,\n",
      "    metadata: { loc: { lines: { from: \u001b[33m1\u001b[39m, to: \u001b[33m6\u001b[39m } } }\n",
      "  },\n",
      "  Document {\n",
      "    pageContent: \u001b[32m\"id: 4\\n\"\u001b[39m +\n",
      "      \u001b[32m\"first_name: Melanie\\n\"\u001b[39m +\n",
      "      \u001b[32m\"last_name: Pidgeon\\n\"\u001b[39m +\n",
      "      \u001b[32m\"email: mpidgeon3@test.com\\n\"\u001b[39m +\n",
      "      \u001b[32m\"gender: Female\\n\"\u001b[39m +\n",
      "      \u001b[32m\"review: 1\"\u001b[39m,\n",
      "    metadata: { loc: { lines: { from: \u001b[33m1\u001b[39m, to: \u001b[33m6\u001b[39m } } }\n",
      "  },\n",
      "  Document {\n",
      "    pageContent: \u001b[32m\"id: 5\\n\"\u001b[39m +\n",
      "      \u001b[32m\"first_name: Matthew\\n\"\u001b[39m +\n",
      "      \u001b[32m\"last_name: McWire\\n\"\u001b[39m +\n",
      "      \u001b[32m\"email: mmcwire@d.org\\n\"\u001b[39m +\n",
      "      \u001b[32m\"gender: Male\\n\"\u001b[39m +\n",
      "      \u001b[32m\"review: 1\"\u001b[39m,\n",
      "    metadata: { loc: { lines: { from: \u001b[33m1\u001b[39m, to: \u001b[33m6\u001b[39m } } }\n",
      "  },\n",
      "  Document {\n",
      "    pageContent: \u001b[32m\"id: 6\\n\"\u001b[39m +\n",
      "      \u001b[32m\"first_name: Christine\\n\"\u001b[39m +\n",
      "      \u001b[32m\"last_name: Tyer\\n\"\u001b[39m +\n",
      "      \u001b[32m\"email: ctyer5@diigo.com\\n\"\u001b[39m +\n",
      "      \u001b[32m\"gender: Non-binary\\n\"\u001b[39m +\n",
      "      \u001b[32m\"review: 2\"\u001b[39m,\n",
      "    metadata: { loc: { lines: { from: \u001b[33m1\u001b[39m, to: \u001b[33m6\u001b[39m } } }\n",
      "  },\n",
      "  Document {\n",
      "    pageContent: \u001b[32m\"id: 7\\n\"\u001b[39m +\n",
      "      \u001b[32m\"first_name: Adriaens\\n\"\u001b[39m +\n",
      "      \u001b[32m\"last_name: Anna\\n\"\u001b[39m +\n",
      "      \u001b[32m\"email: aa@virginia.edu\\n\"\u001b[39m +\n",
      "      \u001b[32m\"gender: Female\\n\"\u001b[39m +\n",
      "      \u001b[32m\"review: 2\"\u001b[39m,\n",
      "    metadata: { loc: { lines: { from: \u001b[33m1\u001b[39m, to: \u001b[33m6\u001b[39m } } }\n",
      "  },\n",
      "  Document {\n",
      "    pageContent: \u001b[32m\"id: 8\\n\"\u001b[39m +\n",
      "      \u001b[32m\"first_name: Albert\\n\"\u001b[39m +\n",
      "      \u001b[32m\"last_name: Alberts\\n\"\u001b[39m +\n",
      "      \u001b[32m\"email: tri_alberts@test.org\\n\"\u001b[39m +\n",
      "      \u001b[32m\"gender: Male\\n\"\u001b[39m +\n",
      "      \u001b[32m\"review: 5\"\u001b[39m,\n",
      "    metadata: { loc: { lines: { from: \u001b[33m1\u001b[39m, to: \u001b[33m6\u001b[39m } } }\n",
      "  },\n",
      "  Document {\n",
      "    pageContent: \u001b[32m\"id: 9\\n\"\u001b[39m +\n",
      "      \u001b[32m\"first_name: Parsifal\\n\"\u001b[39m +\n",
      "      \u001b[32m\"last_name: Bazley\\n\"\u001b[39m +\n",
      "      \u001b[32m\"email: pbazley8@addthis.com\\n\"\u001b[39m +\n",
      "      \u001b[32m\"gender: Male\\n\"\u001b[39m +\n",
      "      \u001b[32m\"review: 3\"\u001b[39m,\n",
      "    metadata: { loc: { lines: { from: \u001b[33m1\u001b[39m, to: \u001b[33m6\u001b[39m } } }\n",
      "  },\n",
      "  Document {\n",
      "    pageContent: \u001b[32m\"id: 10\\n\"\u001b[39m +\n",
      "      \u001b[32m\"first_name: Elihu\\n\"\u001b[39m +\n",
      "      \u001b[32m\"last_name: B\\n\"\u001b[39m +\n",
      "      \u001b[32m\"email: eb9@digg.com\\n\"\u001b[39m +\n",
      "      \u001b[32m\"gender: Non-binary\\n\"\u001b[39m +\n",
      "      \u001b[32m\"review: 7\"\u001b[39m,\n",
      "    metadata: { loc: { lines: { from: \u001b[33m1\u001b[39m, to: \u001b[33m6\u001b[39m } } }\n",
      "  }\n",
      "]\n"
     ]
    }
   ],
   "source": [
    "const res = await askModel(`We provided you with data around reviews. \n",
    "                           Your task is to determine how many reviews we have knowing that the maximum score is 10, \n",
    "                           starting from 0 up to number 10 ?\n",
    "                           Give me your detailed reasoning why you came to that conclusion.`);\n",
    "console.log(res.text);"
   ]
  },
  {
   "cell_type": "code",
   "execution_count": null,
   "id": "eb7aff6c-403b-4670-845c-1de4757d8aed",
   "metadata": {},
   "outputs": [],
   "source": [
    "const res = await askModel(\"Can you give me the exact dataset that you have printed out in columns?\");\n",
    "console.log(res.text);"
   ]
  },
  {
   "cell_type": "code",
   "execution_count": null,
   "id": "e467846a-5c3e-4266-bd43-f9474556b197",
   "metadata": {},
   "outputs": [],
   "source": [
    "const res = await askModel(\"What are the different persons that provided a review of 3? Provide the anwser in short format.\");\n",
    "console.log(res.text);"
   ]
  },
  {
   "cell_type": "code",
   "execution_count": null,
   "id": "cce9ed89-77b1-49f7-9946-39e0b430dfa2",
   "metadata": {},
   "outputs": [],
   "source": [
    "const res = await askModel(\"What are the different persons that provided a review score of 3 in the column review? Give me the reason why you pick these persons?\");\n",
    "console.log(res.text);"
   ]
  },
  {
   "cell_type": "code",
   "execution_count": null,
   "id": "7deedc50-0e8d-4260-a647-319ce76a5bb1",
   "metadata": {},
   "outputs": [],
   "source": [
    "const res = await askModel(\"What are the genders in that filled in the reviews ?\");\n",
    "console.log(res.text);"
   ]
  },
  {
   "cell_type": "code",
   "execution_count": null,
   "id": "265c0c5c-e9c2-4eaf-8f88-f0372f6aef14",
   "metadata": {},
   "outputs": [],
   "source": [
    "const res = await askModel(\"How provided the highest score in the column review?\");\n",
    "console.log(res.text);"
   ]
  },
  {
   "cell_type": "code",
   "execution_count": null,
   "id": "973eb7bf-eacd-4bb4-b124-17878d185111",
   "metadata": {},
   "outputs": [],
   "source": [
    "const res = await askModel(\"How provided the highest score in the column review? Know that the highest score is 10.\");\n",
    "console.log(res.text);"
   ]
  },
  {
   "cell_type": "code",
   "execution_count": null,
   "id": "c731ad30-18d6-4c98-8598-5483017193ce",
   "metadata": {},
   "outputs": [],
   "source": []
  }
 ],
 "metadata": {
  "kernelspec": {
   "display_name": "Deno",
   "language": "typescript",
   "name": "deno"
  },
  "language_info": {
   "file_extension": ".ts",
   "mimetype": "text/x.typescript",
   "name": "typescript",
   "nb_converter": "script",
   "pygments_lexer": "typescript",
   "version": "5.3.3"
  }
 },
 "nbformat": 4,
 "nbformat_minor": 5
}
