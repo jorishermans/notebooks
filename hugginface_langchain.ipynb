{
 "cells": [
  {
   "cell_type": "code",
   "execution_count": 1,
   "id": "987453e4-7ba3-485a-9213-775765d42210",
   "metadata": {},
   "outputs": [],
   "source": [
    "import { HuggingFaceInference } from \"npm:langchain/llms/hf\";\n",
    "import { inference } from \"npm:@huggingface/inference\";"
   ]
  },
  {
   "cell_type": "code",
   "execution_count": 2,
   "id": "1d1d8ebe-1daf-4557-a55b-06c9ce92b749",
   "metadata": {},
   "outputs": [],
   "source": [
    "const token = \"your token ...\""
   ]
  },
  {
   "cell_type": "code",
   "execution_count": 3,
   "id": "a34328d3-e7eb-401e-8d7d-c55f8e71b139",
   "metadata": {},
   "outputs": [],
   "source": [
    "const run = async () => {\n",
    "const model = new HuggingFaceInference({\n",
    "model: \"gpt2\",\n",
    "temperature: 0.7,\n",
    "maxTokens: 50,\n",
    "apiKey: token\n",
    "});\n",
    "const res = await model.call(\n",
    "\"Question: What would be a good company name a company that makes colorful socks?\\nAnswer:\"\n",
    ");\n",
    "return res\n",
    "};"
   ]
  },
  {
   "cell_type": "code",
   "execution_count": 4,
   "id": "966b5264-e4fa-4825-8066-4d2d1e2ebff5",
   "metadata": {},
   "outputs": [
    {
     "name": "stdout",
     "output_type": "stream",
     "text": [
      " As an online retailer, our stores are very diverse and you can find a wide range of brands, colors, sizes, and styles. We believe in bringing the best of both worlds to the local and global market.\n",
      "What would be a good name\n"
     ]
    }
   ],
   "source": [
    "const value = await run()\n",
    "console.log(value)"
   ]
  },
  {
   "cell_type": "code",
   "execution_count": 5,
   "id": "47321714-a44f-422a-b99a-73c548284aa9",
   "metadata": {},
   "outputs": [],
   "source": [
    "const run = async () => {\n",
    "const model = new HuggingFaceInference({\n",
    "model: \"OpenAssistant/llama2-13b-orca-8k-3319\",\n",
    "temperature: 0.7,\n",
    "maxTokens: 50,\n",
    "apiKey: token\n",
    "});\n",
    "const res = await model.call(\n",
    "\"Question: What would be a good company name a company that makes colorful socks?\\nAnswer:\"\n",
    ");\n",
    "return res;\n",
    "};"
   ]
  },
  {
   "cell_type": "code",
   "execution_count": 6,
   "id": "cc3b114c-59e2-4dbb-bedd-2ce06fc0a69d",
   "metadata": {},
   "outputs": [
    {
     "ename": "Error",
     "evalue": "The model OpenAssistant/llama2-13b-orca-8k-3319 is too large to be loaded automatically (26GB > 10GB). Please use Spaces (https://huggingface.co/spaces) or Inference Endpoints (https://huggingface.co/inference-endpoints).",
     "output_type": "error",
     "traceback": [
      "Stack trace:",
      "Error: The model OpenAssistant/llama2-13b-orca-8k-3319 is too large to be loaded automatically (26GB > 10GB). Please use Spaces (https://huggingface.co/spaces) or Inference Endpoints (https://huggingface.co/inference-endpoints).",
      "    at request (file:///Users/jorishermans/Library/Caches/deno/npm/registry.npmjs.org/@huggingface/inference/2.6.4/dist/index.mjs:163:15)",
      "    at eventLoopTick (ext:core/01_core.js:182:7)",
      "    at async textGeneration (file:///Users/jorishermans/Library/Caches/deno/npm/registry.npmjs.org/@huggingface/inference/2.6.4/dist/index.mjs:661:15)",
      "    at async RetryOperation._fn (file:///Users/jorishermans/Library/Caches/deno/npm/registry.npmjs.org/p-retry/4.6.2/index.js:50:12)"
     ]
    }
   ],
   "source": [
    "const value = await run()\n",
    "console.log(value)"
   ]
  },
  {
   "cell_type": "code",
   "execution_count": 9,
   "id": "a0c737e2-f36e-4a05-ac76-3361ad8b2298",
   "metadata": {},
   "outputs": [],
   "source": [
    "const run = async () => {\n",
    "const model = new HuggingFaceInference({\n",
    "model: \"microsoft/phi-2\",\n",
    "temperature: 0.0,\n",
    "apiKey: token\n",
    "});\n",
    "const res = await model.call(\n",
    "\"Question: What would be a good company name a company that makes colorful socks?\\nAnswer:\"\n",
    ");\n",
    "return res;\n",
    "};"
   ]
  },
  {
   "cell_type": "code",
   "execution_count": null,
   "id": "66e54714-3075-448f-b6a8-636967aa8aa3",
   "metadata": {},
   "outputs": [],
   "source": [
    "const value = await run()\n",
    "console.log(value)"
   ]
  },
  {
   "cell_type": "code",
   "execution_count": null,
   "id": "4a2122f5-266c-4dff-865c-31322c67cc2c",
   "metadata": {},
   "outputs": [],
   "source": []
  }
 ],
 "metadata": {
  "kernelspec": {
   "display_name": "Deno",
   "language": "typescript",
   "name": "deno"
  },
  "language_info": {
   "file_extension": ".ts",
   "mimetype": "text/x.typescript",
   "name": "typescript",
   "nb_converter": "script",
   "pygments_lexer": "typescript",
   "version": "5.3.3"
  }
 },
 "nbformat": 4,
 "nbformat_minor": 5
}
