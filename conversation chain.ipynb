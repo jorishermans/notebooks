{
 "cells": [
  {
   "cell_type": "markdown",
   "id": "4fb5a65d-45fb-4047-bbc3-0429425169a9",
   "metadata": {},
   "source": [
    "### Conversation chain"
   ]
  },
  {
   "cell_type": "markdown",
   "id": "b8d92358-d1c8-4c76-96f3-5abec3d52c29",
   "metadata": {},
   "source": [
    "LangChain provides us with Conversational Retrieval Chain that works not just on the recent input, but the whole chat history."
   ]
  },
  {
   "cell_type": "code",
   "execution_count": 1,
   "id": "c35fe7de-788b-4248-8167-f2ccf1fe450a",
   "metadata": {},
   "outputs": [],
   "source": [
    "import { Ollama } from \"npm:@langchain/community/llms/ollama\";\n",
    "import { ConversationChain } from \"npm:langchain/chains\";"
   ]
  },
  {
   "cell_type": "code",
   "execution_count": 2,
   "id": "b5059bf9-3aa4-4e07-94a3-28148885d332",
   "metadata": {},
   "outputs": [
    {
     "name": "stdout",
     "output_type": "stream",
     "text": [
      "Nice to meet you, Jim! I'm LLaMA, your friendly AI companion. I'm designed to assist with various tasks and provide information on a wide range of topics. By the way, did you know that I was trained on a massive dataset of text from the internet, including books, articles, and websites? This training allows me to understand and respond to natural language input in a way that's both informative and engaging! What brings you here today, Jim?\n"
     ]
    }
   ],
   "source": [
    "const model = new Ollama({ model: \"llama3\" });\n",
    "const chain = new ConversationChain({ llm: model });\n",
    "const res1 = await chain.call({ input: \"Hi! I'm Jim.\" });\n",
    "console.log(res1.response);"
   ]
  },
  {
   "cell_type": "code",
   "execution_count": 3,
   "id": "a63c0cd2-e9b7-440d-ba6d-20fc018ae06b",
   "metadata": {},
   "outputs": [
    {
     "name": "stdout",
     "output_type": "stream",
     "text": [
      "That's an easy one, Jim! Your name is Jim, as we just established. I'm happy to remind you of it since we're having this conversation together. By the way, did you know that humans have a remarkable ability to recall their own names, and I'm programmed to respect that by remembering our conversations and recalling relevant details?\n"
     ]
    }
   ],
   "source": [
    "const res2 = await chain.call({ input: \"What's my name?\" });\n",
    "console.log(res2.response);"
   ]
  },
  {
   "cell_type": "code",
   "execution_count": 4,
   "id": "db435b26-984a-4ad4-84a9-277fe50af335",
   "metadata": {},
   "outputs": [
    {
     "name": "stdout",
     "output_type": "stream",
     "text": [
      "Fascinating! So, Jim, as a creator of videos, you must have a keen eye for storytelling and a passion for sharing your ideas with others. Did you know that the first video was created in 1888 by French inventor Louis Le Prince? It was a short film called \"Roundhay Garden Scene\" and showed Adolphe Le Prince, Le Prince's son-in-law, walking around a garden and saying \"Mother's come from down stairs.\" The video was only 2.11 seconds long!\n",
      "\n",
      "As an AI, I'm curious to know more about the type of videos you create. Are they educational, entertaining, or something else?\n"
     ]
    }
   ],
   "source": [
    "const res2 = await chain.call({ input: \"Thanks, I am sometimes forgetting my name. My profession is creating video's\" });\n",
    "console.log(res2.response);"
   ]
  },
  {
   "cell_type": "code",
   "execution_count": 5,
   "id": "4e7f5d40-9d38-4ae9-92ae-1915c9572d7e",
   "metadata": {},
   "outputs": [
    {
     "name": "stdout",
     "output_type": "stream",
     "text": [
      "What a great niche! Educational videos on technology and TypeScript can be incredibly valuable to many people. Here are some topic suggestions that might interest your audience:\n",
      "\n",
      "1. **TypeScript Best Practices**: A video showcasing the most effective ways to use TypeScript, including tips on type annotations, interfaces, and classes.\n",
      "2. **Introduction to Functional Programming with TypeScript**: A beginner-friendly video explaining the basics of functional programming using TypeScript, including concepts like immutability and recursion.\n",
      "3. **Building a Real-World App with TypeScript and React**: A step-by-step tutorial on creating a React application using TypeScript, covering topics like component architecture and state management.\n",
      "4. **Understanding TypeScript Generics**: A detailed video explaining the concept of generics in TypeScript, including examples and use cases for generic types.\n",
      "5. **TypeScript Error Handling and Debugging**: A video demonstrating best practices for handling and debugging TypeScript errors, including tips on using the TypeScript compiler and tools like Visual Studio Code.\n",
      "6. **The Power of Type Guards in TypeScript**: A video exploring the capabilities of type guards in TypeScript, including examples of how they can be used to narrow types and improve code readability.\n",
      "7. **TypeScript and Web APIs: A Guide to API Integration**: A tutorial on using TypeScript to integrate with web APIs, covering topics like API design, data serialization, and error handling.\n",
      "8. **Advanced TypeScript Topics: Monads and Functors**: A video delving into the world of monads and functors in TypeScript, including examples of how they can be used to simplify complex code logic.\n",
      "\n",
      "These are just a few ideas to get you started. Remember to keep your videos concise, engaging, and informative, with plenty of examples and demonstrations to illustrate key concepts. Good luck with your video creation, Jim!\n"
     ]
    }
   ],
   "source": [
    "const res2 = await chain.call({ input: \"It is educational video's about technology and typescript, can you give me some suggestions for topics in that area?\" });\n",
    "console.log(res2.response);"
   ]
  },
  {
   "cell_type": "code",
   "execution_count": 6,
   "id": "622b2311-fb94-4a9c-92b2-d22bfb440ef2",
   "metadata": {},
   "outputs": [
    {
     "name": "stdout",
     "output_type": "stream",
     "text": [
      "As we just discussed, Jim, your videos are educational and focused on technology and TypeScript. You've created content around teaching others about the benefits and best practices of using TypeScript, a statically typed programming language for JavaScript. Your videos aim to help developers improve their skills and build more robust applications with TypeScript.\n",
      "\n",
      "I must say, I'm impressed by the breadth of topics you're covering! It's fantastic that you're sharing your expertise and passion for technology with others. Keep up the great work, Jim!\n",
      "\n",
      "(By the way, would you like me to suggest some potential titles or tags for your videos? As an AI, I can help you come up with attention-grabbing headlines and relevant keywords.)\n"
     ]
    }
   ],
   "source": [
    "const res2 = await chain.call({ input: \"What are my video's about?\" });\n",
    "console.log(res2.response);"
   ]
  },
  {
   "cell_type": "code",
   "execution_count": null,
   "id": "bc8c6bf3-0498-4e71-8f1c-d3a320e3eb16",
   "metadata": {},
   "outputs": [],
   "source": []
  }
 ],
 "metadata": {
  "kernelspec": {
   "display_name": "Deno",
   "language": "typescript",
   "name": "deno"
  },
  "language_info": {
   "file_extension": ".ts",
   "mimetype": "text/x.typescript",
   "name": "typescript",
   "nb_converter": "script",
   "pygments_lexer": "typescript",
   "version": "5.3.3"
  }
 },
 "nbformat": 4,
 "nbformat_minor": 5
}
