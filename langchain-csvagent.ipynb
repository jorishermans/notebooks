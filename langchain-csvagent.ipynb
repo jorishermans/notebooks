{
 "cells": [
  {
   "cell_type": "code",
   "execution_count": 5,
   "id": "6a0f121b-ca7f-425f-8fc5-0d29526c122f",
   "metadata": {},
   "outputs": [
    {
     "ename": "TypeError",
     "evalue": "createCSVAgent is not a function",
     "output_type": "error",
     "traceback": [
      "Stack trace:",
      "TypeError: createCSVAgent is not a function",
      "    at <anonymous>:5:15"
     ]
    }
   ],
   "source": [
    "import { PromptTemplate } from 'npm:langchain/prompts';\n",
    "import { createCSVAgent } from 'npm:langchain/agents';\n",
    "\n",
    "const dataPath = 'data.csv'; // Path to the CSV file\n",
    "const agent = createCSVAgent();\n",
    "const dataString = 'data,age,country\\nAlice,30,USA\\nBob,25,UK\\nCharlie,22,France';\n",
    "\n",
    "agent.loadCSV(dataString);"
   ]
  },
  {
   "cell_type": "code",
   "execution_count": null,
   "id": "bd728dd5-f987-4a5e-8094-85b4dcead77f",
   "metadata": {},
   "outputs": [],
   "source": [
    "const query = 'What is the average age of the students?';\n",
    "\n",
    "const result = await agent.query(query);"
   ]
  }
 ],
 "metadata": {
  "kernelspec": {
   "display_name": "Deno",
   "language": "typescript",
   "name": "deno"
  },
  "language_info": {
   "file_extension": ".ts",
   "mimetype": "text/x.typescript",
   "name": "typescript",
   "nb_converter": "script",
   "pygments_lexer": "typescript",
   "version": "5.2.2"
  }
 },
 "nbformat": 4,
 "nbformat_minor": 5
}
